{
  "nbformat": 4,
  "nbformat_minor": 0,
  "metadata": {
    "colab": {
      "name": "Repaso 1, Conteo de palabras",
      "version": "0.3.2",
      "provenance": [],
      "collapsed_sections": []
    },
    "kernelspec": {
      "name": "python3",
      "display_name": "Python 3"
    }
  },
  "cells": [
    {
      "cell_type": "code",
      "metadata": {
        "id": "1w2506kVlTqV",
        "colab_type": "code",
        "outputId": "b8eddb75-3c72-4750-dd89-c6de5e7bbd81",
        "colab": {
          "base_uri": "https://localhost:8080/",
          "height": 35
        }
      },
      "source": [
        "%%writefile file1.txt\n",
        "\n",
        "Analytics is the discovery, interpretation, and communication of meaningful \n",
        "patterns in data; and the process of applying those patterns towards effective \n",
        "decision making. In other words, analytics can be understood as the connective \n",
        "tissue between data and effective decision making, within an organization. \n",
        "Especially valuable in areas rich with recorded information, analytics relies \n",
        "on the simultaneous application of statistics, computer programming and \n",
        "operations research to quantify performance. \n",
        "\n"
      ],
      "execution_count": 28,
      "outputs": [
        {
          "output_type": "stream",
          "text": [
            "Overwriting file1.txt\n"
          ],
          "name": "stdout"
        }
      ]
    },
    {
      "cell_type": "code",
      "metadata": {
        "id": "3T-JOutPmTcK",
        "colab_type": "code",
        "outputId": "4e30e043-fec3-4593-b829-0518dd551fbd",
        "colab": {
          "base_uri": "https://localhost:8080/",
          "height": 35
        }
      },
      "source": [
        "!ls\n"
      ],
      "execution_count": 0,
      "outputs": [
        {
          "output_type": "stream",
          "text": [
            "file1.txt  sample_data\n"
          ],
          "name": "stdout"
        }
      ]
    },
    {
      "cell_type": "code",
      "metadata": {
        "id": "dzOBA8UGmZoT",
        "colab_type": "code",
        "outputId": "f492dd71-f645-497a-c741-2e37ca72932f",
        "colab": {
          "base_uri": "https://localhost:8080/",
          "height": 164
        }
      },
      "source": [
        "!cat file1.txt\n"
      ],
      "execution_count": 29,
      "outputs": [
        {
          "output_type": "stream",
          "text": [
            "\n",
            "Analytics is the discovery, interpretation, and communication of meaningful \n",
            "patterns in data; and the process of applying those patterns towards effective \n",
            "decision making. In other words, analytics can be understood as the connective \n",
            "tissue between data and effective decision making, within an organization. \n",
            "Especially valuable in areas rich with recorded information, analytics relies \n",
            "on the simultaneous application of statistics, computer programming and \n",
            "operations research to quantify performance. \n"
          ],
          "name": "stdout"
        }
      ]
    },
    {
      "cell_type": "code",
      "metadata": {
        "id": "99fBTjvbmqeh",
        "colab_type": "code",
        "outputId": "aec2ca41-7fab-440d-a2c6-683f7d23cb77",
        "colab": {
          "base_uri": "https://localhost:8080/",
          "height": 954
        }
      },
      "source": [
        "txt = open('file1.txt', 'rt').readlines()\n",
        "txt = [line.replace('\\n', '') for line in txt]\n",
        "txt = [line.replace('.', '') for line in txt]\n",
        "txt = [line.replace(',', '') for line in txt]\n",
        "txt = [line.replace(';', '') for line in txt]\n",
        "txt = [line.lower() for line in txt]\n",
        "txt = [line.split(' ') for line in txt]\n",
        "txt = [[e for e in line if e != ''] for line in txt]\n",
        "txt = ','.join([','.join(line) for line in txt]).split(',')\n",
        "term = set(sorted(txt))\n",
        "[(t, txt.count(t)) for t in sorted(term)]\n"
      ],
      "execution_count": 33,
      "outputs": [
        {
          "output_type": "execute_result",
          "data": {
            "text/plain": [
              "[('', 1),\n",
              " ('an', 1),\n",
              " ('analytics', 3),\n",
              " ('and', 4),\n",
              " ('application', 1),\n",
              " ('applying', 1),\n",
              " ('areas', 1),\n",
              " ('as', 1),\n",
              " ('be', 1),\n",
              " ('between', 1),\n",
              " ('can', 1),\n",
              " ('communication', 1),\n",
              " ('computer', 1),\n",
              " ('connective', 1),\n",
              " ('data', 2),\n",
              " ('decision', 2),\n",
              " ('discovery', 1),\n",
              " ('effective', 2),\n",
              " ('especially', 1),\n",
              " ('in', 3),\n",
              " ('information', 1),\n",
              " ('interpretation', 1),\n",
              " ('is', 1),\n",
              " ('making', 2),\n",
              " ('meaningful', 1),\n",
              " ('of', 3),\n",
              " ('on', 1),\n",
              " ('operations', 1),\n",
              " ('organization', 1),\n",
              " ('other', 1),\n",
              " ('patterns', 2),\n",
              " ('performance', 1),\n",
              " ('process', 1),\n",
              " ('programming', 1),\n",
              " ('quantify', 1),\n",
              " ('recorded', 1),\n",
              " ('relies', 1),\n",
              " ('research', 1),\n",
              " ('rich', 1),\n",
              " ('simultaneous', 1),\n",
              " ('statistics', 1),\n",
              " ('the', 4),\n",
              " ('those', 1),\n",
              " ('tissue', 1),\n",
              " ('to', 1),\n",
              " ('towards', 1),\n",
              " ('understood', 1),\n",
              " ('valuable', 1),\n",
              " ('with', 1),\n",
              " ('within', 1),\n",
              " ('words', 1)]"
            ]
          },
          "metadata": {
            "tags": []
          },
          "execution_count": 33
        }
      ]
    }
  ]
}